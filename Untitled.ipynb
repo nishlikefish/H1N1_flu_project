{
 "cells": [
  {
   "cell_type": "code",
   "execution_count": 126,
   "metadata": {
    "ExecuteTime": {
     "end_time": "2022-04-21T06:35:56.918413Z",
     "start_time": "2022-04-21T06:35:56.902866Z"
    }
   },
   "outputs": [],
   "source": [
    "from sklearn.preprocessing import StandardScaler,OneHotEncoder,FunctionTransformer\n",
    "from sklearn.impute import SimpleImputer\n",
    "from sklearn.compose import ColumnTransformer\n",
    "\n",
    "from sklearn.linear_model import LogisticRegression\n",
    "from sklearn.multioutput import MultiOutputClassifier\n",
    "\n",
    "from sklearn.pipeline import Pipeline\n",
    "\n",
    "from sklearn.model_selection import train_test_split,cross_val_score,GridSearchCV\n",
    "\n",
    "from sklearn.metrics import plot_roc_curve, roc_auc_score\n",
    "\n",
    "\n",
    "\n",
    "from xgboost.sklearn import XGBClassifier\n",
    "from sklearn.neural_network import MLPClassifier\n",
    "RANDOM_SEED = 8    # Set a random seed for reproducibility!\n",
    "\n",
    "from sklearn.ensemble import GradientBoostingClassifier, RandomForestClassifier, BaggingClassifier\n",
    "from sklearn.ensemble import StackingClassifier,VotingClassifier,BaggingClassifier\n",
    "from sklearn.tree import DecisionTreeClassifier\n",
    "from sklearn.neighbors import KNeighborsClassifier\n",
    "\n",
    "from numpy import nan\n",
    "import copy"
   ]
  },
  {
   "cell_type": "code",
   "execution_count": 53,
   "metadata": {
    "ExecuteTime": {
     "end_time": "2022-04-21T05:51:31.310053Z",
     "start_time": "2022-04-21T05:51:31.206170Z"
    }
   },
   "outputs": [],
   "source": [
    "features_df = pd.read_csv(\n",
    "    \"data/training_set_features.csv\", \n",
    "    index_col=\"respondent_id\"\n",
    ")\n",
    "labels_df = pd.read_csv(\n",
    "   \"data/training_set_labels.csv\", \n",
    "    index_col=\"respondent_id\"\n",
    ")"
   ]
  },
  {
   "cell_type": "code",
   "execution_count": 54,
   "metadata": {
    "ExecuteTime": {
     "end_time": "2022-04-21T05:51:31.566299Z",
     "start_time": "2022-04-21T05:51:31.563853Z"
    }
   },
   "outputs": [],
   "source": [
    "numeric_cols = features_df.columns[features_df.dtypes != \"object\"].values\n",
    "non_numeric_cols = features_df.columns[features_df.dtypes == 'object'].values"
   ]
  },
  {
   "cell_type": "code",
   "execution_count": 55,
   "metadata": {
    "ExecuteTime": {
     "end_time": "2022-04-21T05:51:31.968436Z",
     "start_time": "2022-04-21T05:51:31.962284Z"
    }
   },
   "outputs": [],
   "source": [
    "seperate_processing_cols = [\"age_group\", \"income_poverty\"]\n",
    "#seperate_processing_cols = []\n",
    "\n",
    "age_mean_map = {'18 - 34 Years': 26,\n",
    "                '35 - 44 Years': 40,\n",
    "                '45 - 54 Years': 50,\n",
    "                '55 - 64 Years': 60,\n",
    "                '65+ Years': 70, \n",
    "                }\n",
    "\n",
    "income_map = {'Below Poverty': 1,\n",
    "              '<= $75,000, Above Poverty': 2,\n",
    "              '> $75,000':3\n",
    "             }\n",
    "\n",
    "full_map = {\"age_group\":age_mean_map,\n",
    "            \"income_poverty\":income_map}\n",
    "\n",
    "def map_to_numeric(x, mapping):\n",
    "    if mapping.get(x) == None:\n",
    "        return nan\n",
    "    else:\n",
    "        return mapping.get(x)\n",
    "\n",
    "def convert(df):\n",
    "    new_df = copy.deepcopy(df)\n",
    "    for col in seperate_processing_cols:\n",
    "        new_df[col] = df[col].apply(lambda x: map_to_numeric(x, full_map.get(col))) \n",
    "    return new_df\n",
    "\n",
    "numeric_to_cat_transformer = FunctionTransformer(convert)  "
   ]
  },
  {
   "cell_type": "code",
   "execution_count": 56,
   "metadata": {
    "ExecuteTime": {
     "end_time": "2022-04-21T05:51:32.319645Z",
     "start_time": "2022-04-21T05:51:32.314896Z"
    }
   },
   "outputs": [],
   "source": [
    "# chain preprocessing into a Pipeline object\n",
    "# each step is a tuple of (name you chose, sklearn transformer)\n",
    "high_missing_cols = []\n",
    "non_numeric_cols = [x for x in non_numeric_cols if (x not in high_missing_cols and x not in seperate_processing_cols)]\n",
    "numeric_cols = [x for x in numeric_cols if (x not in high_missing_cols and x not in seperate_processing_cols)]\n",
    "# chain preprocessing into a Pipeline object\n",
    "# each step is a tuple of (name you chose, sklearn transformer)\n",
    "numeric_to_cat_preprocessing_steps = Pipeline([\n",
    "    ('convert_to_cat', numeric_to_cat_transofrmer),\n",
    "    ('simple_imputer', SimpleImputer(strategy='mean')),\n",
    "    ('standard_scaler', StandardScaler()),\n",
    "    ])\n",
    "\n",
    "numeric_preprocessing_steps = Pipeline(steps=[\n",
    "    ('standard_scaler', StandardScaler()),\n",
    "    ('imputer', SimpleImputer(strategy='mean'))])\n",
    "non_numeric_preprocessing_steps = Pipeline(steps=[\n",
    "    ('imputer', SimpleImputer(strategy='constant', fill_value='missing')),\n",
    "    ('onehot', OneHotEncoder(handle_unknown='ignore'))])\n",
    "# create the preprocessor stage of final pipeline\n",
    "# each entry in the transformer list is a tuple of\n",
    "# (name you choose, sklearn transformer, list of columns)\n",
    "total_preprocessing= ColumnTransformer(\n",
    "    transformers = [\n",
    "        (\"numeric\", numeric_preprocessing_steps, numeric_cols),\n",
    "        (\"non_numeric\",non_numeric_preprocessing_steps,non_numeric_cols),\n",
    "        (\"numeric_to_cat\", numeric_to_cat_preprocessing_steps, seperate_processing_cols)\n",
    "    ],\n",
    "    remainder = \"drop\"\n",
    ")"
   ]
  },
  {
   "cell_type": "code",
   "execution_count": 57,
   "metadata": {
    "ExecuteTime": {
     "end_time": "2022-04-21T05:51:32.813214Z",
     "start_time": "2022-04-21T05:51:32.796559Z"
    }
   },
   "outputs": [],
   "source": [
    "#scoring function (cross_val)\n",
    "class ModelWithCV():\n",
    "    '''Structure to save the model and more easily see its crossvalidation'''\n",
    "    \n",
    "    def __init__(self, model, model_name, X, y, cv_now=True):\n",
    "        self.model = model\n",
    "        self.name = model_name\n",
    "        self.X = X\n",
    "        self.y = y\n",
    "        # For CV results\n",
    "        self.cv_results = None\n",
    "        self.cv_mean = None\n",
    "        self.cv_median = None\n",
    "        self.cv_std = None\n",
    "        #\n",
    "        if cv_now:\n",
    "            self.cross_validate()\n",
    "        \n",
    "    def cross_validate(self, X=None, y=None, kfolds=10):\n",
    "        '''\n",
    "        Perform cross-validation and return results.\n",
    "        \n",
    "        Args: \n",
    "          X:\n",
    "            Optional; Training data to perform CV on. Otherwise use X from object\n",
    "          y:\n",
    "            Optional; Training data to perform CV on. Otherwise use y from object\n",
    "          kfolds:\n",
    "            Optional; Number of folds for CV (default is 10)  \n",
    "        '''\n",
    "        \n",
    "        cv_X = X if X else self.X\n",
    "        cv_y = y if y else self.y\n",
    "\n",
    "        self.cv_results = cross_val_score(self.model, cv_X, cv_y, cv=kfolds)\n",
    "        self.cv_mean = np.mean(self.cv_results)\n",
    "        self.cv_median = np.median(self.cv_results)\n",
    "        self.cv_std = np.std(self.cv_results)\n",
    "\n",
    "        \n",
    "    def print_cv_summary(self):\n",
    "        cv_summary = (\n",
    "        f'''CV Results for `{self.name}` model:\n",
    "            {self.cv_mean:.5f} ± {self.cv_std:.5f} accuracy\n",
    "        ''')\n",
    "        print(cv_summary)"
   ]
  },
  {
   "cell_type": "code",
   "execution_count": 58,
   "metadata": {
    "ExecuteTime": {
     "end_time": "2022-04-21T05:51:33.173362Z",
     "start_time": "2022-04-21T05:51:33.170032Z"
    }
   },
   "outputs": [],
   "source": [
    "#scoring function (aoc-roc)\n",
    "class ModelWithAOCROC(ModelWithCV):\n",
    "    \"\"\"Structure for scoring classfication models\"\"\"\n",
    "    def __init__(self, *args, **kwargs):\n",
    "        super().__init__(*args, **kwargs)\n",
    "        \n",
    "    def plt_roc_curve(self,X=None,y=None):\n",
    "      \n",
    "        \n",
    "        cv_X = X if X else self.X\n",
    "        cv_y = y if y else self.y\n",
    "        y_preds = self.model.predict(cv_X)\n",
    "        plot_roc_curve(self.model,cv_X,cv_y)"
   ]
  },
  {
   "cell_type": "code",
   "execution_count": 59,
   "metadata": {
    "ExecuteTime": {
     "end_time": "2022-04-21T05:51:33.712219Z",
     "start_time": "2022-04-21T05:51:33.670358Z"
    }
   },
   "outputs": [],
   "source": [
    "X_train, X_eval, y_train, y_eval = train_test_split(\n",
    "    features_df,\n",
    "    labels_df['seasonal_vaccine'],\n",
    "    test_size=0.33,\n",
    "    shuffle=True,\n",
    "    stratify=labels_df['seasonal_vaccine'],\n",
    "    random_state=RANDOM_SEED\n",
    ")"
   ]
  },
  {
   "cell_type": "code",
   "execution_count": 60,
   "metadata": {
    "ExecuteTime": {
     "end_time": "2022-04-21T05:51:34.003147Z",
     "start_time": "2022-04-21T05:51:34.001486Z"
    }
   },
   "outputs": [],
   "source": [
    "log_reg_pipe=Pipeline([('total_preprocessing',total_preprocessing),\n",
    "                     ('logreg',LogisticRegression(max_iter=1000))])"
   ]
  },
  {
   "cell_type": "code",
   "execution_count": 61,
   "metadata": {
    "ExecuteTime": {
     "end_time": "2022-04-21T05:51:35.040789Z",
     "start_time": "2022-04-21T05:51:34.433121Z"
    }
   },
   "outputs": [
    {
     "data": {
      "text/plain": [
       "Pipeline(steps=[('total_preprocessing',\n",
       "                 ColumnTransformer(transformers=[('numeric',\n",
       "                                                  Pipeline(steps=[('standard_scaler',\n",
       "                                                                   StandardScaler()),\n",
       "                                                                  ('imputer',\n",
       "                                                                   SimpleImputer())]),\n",
       "                                                  ['h1n1_concern',\n",
       "                                                   'h1n1_knowledge',\n",
       "                                                   'behavioral_antiviral_meds',\n",
       "                                                   'behavioral_avoidance',\n",
       "                                                   'behavioral_face_mask',\n",
       "                                                   'behavioral_wash_hands',\n",
       "                                                   'behavioral_large_gatherings',\n",
       "                                                   'behavioral_outside_home...\n",
       "                                                   'employment_status',\n",
       "                                                   'hhs_geo_region',\n",
       "                                                   'census_msa',\n",
       "                                                   'employment_industry',\n",
       "                                                   'employment_occupation']),\n",
       "                                                 ('numeric_to_cat',\n",
       "                                                  Pipeline(steps=[('convert_to_cat',\n",
       "                                                                   FunctionTransformer(func=<function convert at 0x7fd2c8c0d8b0>)),\n",
       "                                                                  ('simple_imputer',\n",
       "                                                                   SimpleImputer()),\n",
       "                                                                  ('standard_scaler',\n",
       "                                                                   StandardScaler())]),\n",
       "                                                  ['age_group',\n",
       "                                                   'income_poverty'])])),\n",
       "                ('logreg', LogisticRegression(max_iter=1000))])"
      ]
     },
     "execution_count": 61,
     "metadata": {},
     "output_type": "execute_result"
    }
   ],
   "source": [
    "log_reg_pipe.fit(X_train,y_train)"
   ]
  },
  {
   "cell_type": "code",
   "execution_count": 62,
   "metadata": {
    "ExecuteTime": {
     "end_time": "2022-04-21T05:51:40.801856Z",
     "start_time": "2022-04-21T05:51:35.293462Z"
    }
   },
   "outputs": [],
   "source": [
    "logreg_scoring=ModelWithAOCROC(log_reg_pipe, 'logreg', X_train, y_train, cv_now=True)"
   ]
  },
  {
   "cell_type": "code",
   "execution_count": 63,
   "metadata": {
    "ExecuteTime": {
     "end_time": "2022-04-21T05:51:41.056506Z",
     "start_time": "2022-04-21T05:51:41.054821Z"
    }
   },
   "outputs": [
    {
     "name": "stdout",
     "output_type": "stream",
     "text": [
      "CV Results for `logreg` model:\n",
      "            0.77567 ± 0.01077 accuracy\n",
      "        \n"
     ]
    }
   ],
   "source": [
    "logreg_scoring.print_cv_summary()"
   ]
  },
  {
   "cell_type": "code",
   "execution_count": 64,
   "metadata": {
    "ExecuteTime": {
     "end_time": "2022-04-21T05:51:41.488950Z",
     "start_time": "2022-04-21T05:51:41.302914Z"
    }
   },
   "outputs": [
    {
     "data": {
      "image/png": "[encoded data removed]",
      "text/plain": [
       "<Figure size 432x288 with 1 Axes>"
      ]
     },
     "metadata": {
      "needs_background": "light"
     },
     "output_type": "display_data"
    }
   ],
   "source": [
    "logreg_scoring.plt_roc_curve()"
   ]
  },
  {
   "cell_type": "code",
   "execution_count": 65,
   "metadata": {
    "ExecuteTime": {
     "end_time": "2022-04-21T05:51:41.741930Z",
     "start_time": "2022-04-21T05:51:41.740245Z"
    }
   },
   "outputs": [],
   "source": [
    "rfc_pipe=Pipeline([('total_preprocessing',total_preprocessing),\n",
    "                     ('rfc',RandomForestClassifier(random_state=42))])"
   ]
  },
  {
   "cell_type": "code",
   "execution_count": 66,
   "metadata": {
    "ExecuteTime": {
     "end_time": "2022-04-21T05:51:43.520514Z",
     "start_time": "2022-04-21T05:51:41.982423Z"
    }
   },
   "outputs": [
    {
     "data": {
      "text/plain": [
       "Pipeline(steps=[('total_preprocessing',\n",
       "                 ColumnTransformer(transformers=[('numeric',\n",
       "                                                  Pipeline(steps=[('standard_scaler',\n",
       "                                                                   StandardScaler()),\n",
       "                                                                  ('imputer',\n",
       "                                                                   SimpleImputer())]),\n",
       "                                                  ['h1n1_concern',\n",
       "                                                   'h1n1_knowledge',\n",
       "                                                   'behavioral_antiviral_meds',\n",
       "                                                   'behavioral_avoidance',\n",
       "                                                   'behavioral_face_mask',\n",
       "                                                   'behavioral_wash_hands',\n",
       "                                                   'behavioral_large_gatherings',\n",
       "                                                   'behavioral_outside_home...\n",
       "                                                   'employment_status',\n",
       "                                                   'hhs_geo_region',\n",
       "                                                   'census_msa',\n",
       "                                                   'employment_industry',\n",
       "                                                   'employment_occupation']),\n",
       "                                                 ('numeric_to_cat',\n",
       "                                                  Pipeline(steps=[('convert_to_cat',\n",
       "                                                                   FunctionTransformer(func=<function convert at 0x7fd2c8c0d8b0>)),\n",
       "                                                                  ('simple_imputer',\n",
       "                                                                   SimpleImputer()),\n",
       "                                                                  ('standard_scaler',\n",
       "                                                                   StandardScaler())]),\n",
       "                                                  ['age_group',\n",
       "                                                   'income_poverty'])])),\n",
       "                ('rfc', RandomForestClassifier(random_state=42))])"
      ]
     },
     "execution_count": 66,
     "metadata": {},
     "output_type": "execute_result"
    }
   ],
   "source": [
    "rfc_pipe.fit(X_train,y_train)"
   ]
  },
  {
   "cell_type": "code",
   "execution_count": 67,
   "metadata": {
    "ExecuteTime": {
     "end_time": "2022-04-21T05:51:57.587053Z",
     "start_time": "2022-04-21T05:51:43.761230Z"
    }
   },
   "outputs": [],
   "source": [
    "rfc_scoring=ModelWithAOCROC(rfc_pipe, 'rfc_pipe', X_train, y_train, cv_now=True)"
   ]
  },
  {
   "cell_type": "code",
   "execution_count": 68,
   "metadata": {
    "ExecuteTime": {
     "end_time": "2022-04-21T05:51:57.833765Z",
     "start_time": "2022-04-21T05:51:57.832206Z"
    }
   },
   "outputs": [
    {
     "name": "stdout",
     "output_type": "stream",
     "text": [
      "CV Results for `rfc_pipe` model:\n",
      "            0.77611 ± 0.00900 accuracy\n",
      "        \n"
     ]
    }
   ],
   "source": [
    "rfc_scoring.print_cv_summary()"
   ]
  },
  {
   "cell_type": "code",
   "execution_count": 69,
   "metadata": {
    "ExecuteTime": {
     "end_time": "2022-04-21T05:51:58.759970Z",
     "start_time": "2022-04-21T05:51:58.080210Z"
    }
   },
   "outputs": [
    {
     "data": {
      "image/png": "[encoded data removed]",
      "text/plain": [
       "<Figure size 432x288 with 1 Axes>"
      ]
     },
     "metadata": {
      "needs_background": "light"
     },
     "output_type": "display_data"
    }
   ],
   "source": [
    "#scoring with aoc-roc\n",
    "rfc_scoring.plt_roc_curve()"
   ]
  },
  {
   "cell_type": "code",
   "execution_count": 70,
   "metadata": {
    "ExecuteTime": {
     "end_time": "2022-04-21T05:51:59.002765Z",
     "start_time": "2022-04-21T05:51:59.000952Z"
    }
   },
   "outputs": [],
   "source": [
    "etc = ExtraTreesClassifier(max_features='sqrt', max_samples=.5, bootstrap=True, random_state=42)\n",
    "etc_pipe= Pipeline([('total_preprocessing',total_preprocessing), ('etc', etc)])"
   ]
  },
  {
   "cell_type": "code",
   "execution_count": 71,
   "metadata": {
    "ExecuteTime": {
     "end_time": "2022-04-21T05:52:00.125929Z",
     "start_time": "2022-04-21T05:51:59.241082Z"
    }
   },
   "outputs": [
    {
     "data": {
      "text/plain": [
       "Pipeline(steps=[('total_preprocessing',\n",
       "                 ColumnTransformer(transformers=[('numeric',\n",
       "                                                  Pipeline(steps=[('standard_scaler',\n",
       "                                                                   StandardScaler()),\n",
       "                                                                  ('imputer',\n",
       "                                                                   SimpleImputer())]),\n",
       "                                                  ['h1n1_concern',\n",
       "                                                   'h1n1_knowledge',\n",
       "                                                   'behavioral_antiviral_meds',\n",
       "                                                   'behavioral_avoidance',\n",
       "                                                   'behavioral_face_mask',\n",
       "                                                   'behavioral_wash_hands',\n",
       "                                                   'behavioral_large_gatherings',\n",
       "                                                   'behavioral_outside_home...\n",
       "                                                   'employment_industry',\n",
       "                                                   'employment_occupation']),\n",
       "                                                 ('numeric_to_cat',\n",
       "                                                  Pipeline(steps=[('convert_to_cat',\n",
       "                                                                   FunctionTransformer(func=<function convert at 0x7fd2c8c0d8b0>)),\n",
       "                                                                  ('simple_imputer',\n",
       "                                                                   SimpleImputer()),\n",
       "                                                                  ('standard_scaler',\n",
       "                                                                   StandardScaler())]),\n",
       "                                                  ['age_group',\n",
       "                                                   'income_poverty'])])),\n",
       "                ('etc',\n",
       "                 ExtraTreesClassifier(bootstrap=True, max_features='sqrt',\n",
       "                                      max_samples=0.5, random_state=42))])"
      ]
     },
     "execution_count": 71,
     "metadata": {},
     "output_type": "execute_result"
    }
   ],
   "source": [
    "#fitting on training data \n",
    "etc_pipe.fit(X_train,y_train)"
   ]
  },
  {
   "cell_type": "code",
   "execution_count": 72,
   "metadata": {
    "ExecuteTime": {
     "end_time": "2022-04-21T05:52:08.567512Z",
     "start_time": "2022-04-21T05:52:00.366113Z"
    }
   },
   "outputs": [],
   "source": [
    "#instantiating scoring function \n",
    "etc_scoring=ModelWithAOCROC(etc_pipe, 'etc_pipe', X_train, y_train, cv_now=True)"
   ]
  },
  {
   "cell_type": "code",
   "execution_count": 73,
   "metadata": {
    "ExecuteTime": {
     "end_time": "2022-04-21T05:52:08.808518Z",
     "start_time": "2022-04-21T05:52:08.806635Z"
    }
   },
   "outputs": [
    {
     "data": {
      "text/plain": [
       "<bound method ModelWithCV.print_cv_summary of <__main__.ModelWithAOCROC object at 0x7fd27e0c5a60>>"
      ]
     },
     "execution_count": 73,
     "metadata": {},
     "output_type": "execute_result"
    }
   ],
   "source": [
    "#scoring with Cross_val\n",
    "etc_scoring.print_cv_summary"
   ]
  },
  {
   "cell_type": "code",
   "execution_count": 74,
   "metadata": {
    "ExecuteTime": {
     "end_time": "2022-04-21T05:52:09.704795Z",
     "start_time": "2022-04-21T05:52:09.048087Z"
    }
   },
   "outputs": [
    {
     "data": {
      "image/png": "[encoded data removed]",
      "text/plain": [
       "<Figure size 432x288 with 1 Axes>"
      ]
     },
     "metadata": {
      "needs_background": "light"
     },
     "output_type": "display_data"
    }
   ],
   "source": [
    "etc_scoring.plt_roc_curve()"
   ]
  },
  {
   "cell_type": "code",
   "execution_count": 75,
   "metadata": {
    "ExecuteTime": {
     "end_time": "2022-04-21T05:52:09.948735Z",
     "start_time": "2022-04-21T05:52:09.947158Z"
    }
   },
   "outputs": [],
   "source": [
    "gbc_pipe = Pipeline([('total_preprocessing',total_preprocessing), ('gbc', GradientBoostingClassifier(random_state=42))])"
   ]
  },
  {
   "cell_type": "code",
   "execution_count": 76,
   "metadata": {
    "ExecuteTime": {
     "end_time": "2022-04-21T05:52:13.166490Z",
     "start_time": "2022-04-21T05:52:10.192744Z"
    }
   },
   "outputs": [
    {
     "data": {
      "text/plain": [
       "Pipeline(steps=[('total_preprocessing',\n",
       "                 ColumnTransformer(transformers=[('numeric',\n",
       "                                                  Pipeline(steps=[('standard_scaler',\n",
       "                                                                   StandardScaler()),\n",
       "                                                                  ('imputer',\n",
       "                                                                   SimpleImputer())]),\n",
       "                                                  ['h1n1_concern',\n",
       "                                                   'h1n1_knowledge',\n",
       "                                                   'behavioral_antiviral_meds',\n",
       "                                                   'behavioral_avoidance',\n",
       "                                                   'behavioral_face_mask',\n",
       "                                                   'behavioral_wash_hands',\n",
       "                                                   'behavioral_large_gatherings',\n",
       "                                                   'behavioral_outside_home...\n",
       "                                                   'hhs_geo_region',\n",
       "                                                   'census_msa',\n",
       "                                                   'employment_industry',\n",
       "                                                   'employment_occupation']),\n",
       "                                                 ('numeric_to_cat',\n",
       "                                                  Pipeline(steps=[('convert_to_cat',\n",
       "                                                                   FunctionTransformer(func=<function convert at 0x7fd2c8c0d8b0>)),\n",
       "                                                                  ('simple_imputer',\n",
       "                                                                   SimpleImputer()),\n",
       "                                                                  ('standard_scaler',\n",
       "                                                                   StandardScaler())]),\n",
       "                                                  ['age_group',\n",
       "                                                   'income_poverty'])])),\n",
       "                ('gbc', GradientBoostingClassifier(random_state=42))])"
      ]
     },
     "execution_count": 76,
     "metadata": {},
     "output_type": "execute_result"
    }
   ],
   "source": [
    "#fitting on training data \n",
    "gbc_pipe.fit(X_train,y_train)"
   ]
  },
  {
   "cell_type": "code",
   "execution_count": 77,
   "metadata": {
    "ExecuteTime": {
     "end_time": "2022-04-21T05:52:39.838073Z",
     "start_time": "2022-04-21T05:52:13.415578Z"
    }
   },
   "outputs": [],
   "source": [
    "#instantiating scoring function \n",
    "gbc_scoring=ModelWithAOCROC(gbc_pipe, 'gbc_pipe', X_train, y_train, cv_now=True)"
   ]
  },
  {
   "cell_type": "code",
   "execution_count": 100,
   "metadata": {
    "ExecuteTime": {
     "end_time": "2022-04-21T06:01:39.273516Z",
     "start_time": "2022-04-21T06:01:39.268134Z"
    }
   },
   "outputs": [
    {
     "name": "stdout",
     "output_type": "stream",
     "text": [
      "CV Results for `gbc_pipe` model:\n",
      "            0.78332 ± 0.00949 accuracy\n",
      "        \n"
     ]
    }
   ],
   "source": [
    "#scoring with Cross_val\n",
    "gbc_scoring.print_cv_summary()"
   ]
  },
  {
   "cell_type": "code",
   "execution_count": 79,
   "metadata": {
    "ExecuteTime": {
     "end_time": "2022-04-21T05:52:40.560386Z",
     "start_time": "2022-04-21T05:52:40.327324Z"
    }
   },
   "outputs": [
    {
     "data": {
      "image/png": "[encoded data removed]",
      "text/plain": [
       "<Figure size 432x288 with 1 Axes>"
      ]
     },
     "metadata": {
      "needs_background": "light"
     },
     "output_type": "display_data"
    }
   ],
   "source": [
    "gbc_scoring.plt_roc_curve()"
   ]
  },
  {
   "cell_type": "code",
   "execution_count": 84,
   "metadata": {
    "ExecuteTime": {
     "end_time": "2022-04-21T05:57:52.454544Z",
     "start_time": "2022-04-21T05:57:52.444594Z"
    }
   },
   "outputs": [],
   "source": [
    "vc = VotingClassifier(estimators=[\n",
    "    ('logreg', LogisticRegression()),\n",
    "    ('knn', KNeighborsClassifier(n_neighbors=3)),\n",
    "    ('ct', DecisionTreeClassifier(random_state=42))\n",
    "])"
   ]
  },
  {
   "cell_type": "code",
   "execution_count": 86,
   "metadata": {
    "ExecuteTime": {
     "end_time": "2022-04-21T05:58:20.722500Z",
     "start_time": "2022-04-21T05:58:20.715397Z"
    }
   },
   "outputs": [],
   "source": [
    "vc_pipe=Pipeline([('total_preprocessing',total_preprocessing), ('vc',vc)])"
   ]
  },
  {
   "cell_type": "code",
   "execution_count": 87,
   "metadata": {
    "ExecuteTime": {
     "end_time": "2022-04-21T05:58:28.962381Z",
     "start_time": "2022-04-21T05:58:28.338399Z"
    }
   },
   "outputs": [
    {
     "data": {
      "text/plain": [
       "Pipeline(steps=[('total_preprocessing',\n",
       "                 ColumnTransformer(transformers=[('numeric',\n",
       "                                                  Pipeline(steps=[('standard_scaler',\n",
       "                                                                   StandardScaler()),\n",
       "                                                                  ('imputer',\n",
       "                                                                   SimpleImputer())]),\n",
       "                                                  ['h1n1_concern',\n",
       "                                                   'h1n1_knowledge',\n",
       "                                                   'behavioral_antiviral_meds',\n",
       "                                                   'behavioral_avoidance',\n",
       "                                                   'behavioral_face_mask',\n",
       "                                                   'behavioral_wash_hands',\n",
       "                                                   'behavioral_large_gatherings',\n",
       "                                                   'behavioral_outside_home...\n",
       "                                                  Pipeline(steps=[('convert_to_cat',\n",
       "                                                                   FunctionTransformer(func=<function convert at 0x7fd2c8c0d8b0>)),\n",
       "                                                                  ('simple_imputer',\n",
       "                                                                   SimpleImputer()),\n",
       "                                                                  ('standard_scaler',\n",
       "                                                                   StandardScaler())]),\n",
       "                                                  ['age_group',\n",
       "                                                   'income_poverty'])])),\n",
       "                ('vc',\n",
       "                 VotingClassifier(estimators=[('logreg', LogisticRegression()),\n",
       "                                              ('knn',\n",
       "                                               KNeighborsClassifier(n_neighbors=3)),\n",
       "                                              ('ct',\n",
       "                                               DecisionTreeClassifier(random_state=42))]))])"
      ]
     },
     "execution_count": 87,
     "metadata": {},
     "output_type": "execute_result"
    }
   ],
   "source": [
    "#fitting on training data \n",
    "vc_pipe.fit(X_train,y_train)"
   ]
  },
  {
   "cell_type": "code",
   "execution_count": 88,
   "metadata": {
    "ExecuteTime": {
     "end_time": "2022-04-21T05:58:44.834142Z",
     "start_time": "2022-04-21T05:58:37.293151Z"
    }
   },
   "outputs": [],
   "source": [
    "#instantiating scoring function \n",
    "vc_scoring=ModelWithAOCROC(vc_pipe, 'vc_pipe', X_train, y_train, cv_now=True)"
   ]
  },
  {
   "cell_type": "code",
   "execution_count": 91,
   "metadata": {
    "ExecuteTime": {
     "end_time": "2022-04-21T05:59:10.736650Z",
     "start_time": "2022-04-21T05:59:10.730056Z"
    }
   },
   "outputs": [
    {
     "name": "stdout",
     "output_type": "stream",
     "text": [
      "CV Results for `vc_pipe` model:\n",
      "            0.75823 ± 0.01026 accuracy\n",
      "        \n"
     ]
    }
   ],
   "source": [
    "#scoring with Cross_val\n",
    "vc_scoring.print_cv_summary()"
   ]
  },
  {
   "cell_type": "code",
   "execution_count": 92,
   "metadata": {
    "ExecuteTime": {
     "end_time": "2022-04-21T05:59:37.396323Z",
     "start_time": "2022-04-21T05:59:37.391175Z"
    }
   },
   "outputs": [],
   "source": [
    "bag=BaggingClassifier()"
   ]
  },
  {
   "cell_type": "code",
   "execution_count": 93,
   "metadata": {
    "ExecuteTime": {
     "end_time": "2022-04-21T06:00:03.655992Z",
     "start_time": "2022-04-21T06:00:03.647626Z"
    }
   },
   "outputs": [],
   "source": [
    "bag_pipe=Pipeline([('total_preprocessing',total_preprocessing), ('bag',bag)])"
   ]
  },
  {
   "cell_type": "code",
   "execution_count": 94,
   "metadata": {
    "ExecuteTime": {
     "end_time": "2022-04-21T06:00:19.277939Z",
     "start_time": "2022-04-21T06:00:18.191368Z"
    }
   },
   "outputs": [
    {
     "data": {
      "text/plain": [
       "Pipeline(steps=[('total_preprocessing',\n",
       "                 ColumnTransformer(transformers=[('numeric',\n",
       "                                                  Pipeline(steps=[('standard_scaler',\n",
       "                                                                   StandardScaler()),\n",
       "                                                                  ('imputer',\n",
       "                                                                   SimpleImputer())]),\n",
       "                                                  ['h1n1_concern',\n",
       "                                                   'h1n1_knowledge',\n",
       "                                                   'behavioral_antiviral_meds',\n",
       "                                                   'behavioral_avoidance',\n",
       "                                                   'behavioral_face_mask',\n",
       "                                                   'behavioral_wash_hands',\n",
       "                                                   'behavioral_large_gatherings',\n",
       "                                                   'behavioral_outside_home...\n",
       "                                                   'rent_or_own',\n",
       "                                                   'employment_status',\n",
       "                                                   'hhs_geo_region',\n",
       "                                                   'census_msa',\n",
       "                                                   'employment_industry',\n",
       "                                                   'employment_occupation']),\n",
       "                                                 ('numeric_to_cat',\n",
       "                                                  Pipeline(steps=[('convert_to_cat',\n",
       "                                                                   FunctionTransformer(func=<function convert at 0x7fd2c8c0d8b0>)),\n",
       "                                                                  ('simple_imputer',\n",
       "                                                                   SimpleImputer()),\n",
       "                                                                  ('standard_scaler',\n",
       "                                                                   StandardScaler())]),\n",
       "                                                  ['age_group',\n",
       "                                                   'income_poverty'])])),\n",
       "                ('bag', BaggingClassifier())])"
      ]
     },
     "execution_count": 94,
     "metadata": {},
     "output_type": "execute_result"
    }
   ],
   "source": [
    "bag_pipe.fit(X_train,y_train)"
   ]
  },
  {
   "cell_type": "code",
   "execution_count": 95,
   "metadata": {
    "ExecuteTime": {
     "end_time": "2022-04-21T06:00:54.057426Z",
     "start_time": "2022-04-21T06:00:44.616643Z"
    }
   },
   "outputs": [],
   "source": [
    "bag_scoring=ModelWithAOCROC(bag_pipe, 'bag_pipe', X_train, y_train, cv_now=True)"
   ]
  },
  {
   "cell_type": "code",
   "execution_count": 97,
   "metadata": {
    "ExecuteTime": {
     "end_time": "2022-04-21T06:01:11.554285Z",
     "start_time": "2022-04-21T06:01:11.550243Z"
    }
   },
   "outputs": [
    {
     "name": "stdout",
     "output_type": "stream",
     "text": [
      "CV Results for `bag_pipe` model:\n",
      "            0.74884 ± 0.00838 accuracy\n",
      "        \n"
     ]
    }
   ],
   "source": [
    "bag_scoring.print_cv_summary()"
   ]
  },
  {
   "cell_type": "code",
   "execution_count": 99,
   "metadata": {
    "ExecuteTime": {
     "end_time": "2022-04-21T06:01:27.770634Z",
     "start_time": "2022-04-21T06:01:27.433843Z"
    }
   },
   "outputs": [
    {
     "data": {
      "image/png": "[encoded data removed]",
      "text/plain": [
       "<Figure size 432x288 with 1 Axes>"
      ]
     },
     "metadata": {
      "needs_background": "light"
     },
     "output_type": "display_data"
    }
   ],
   "source": [
    "bag_scoring.plt_roc_curve()"
   ]
  },
  {
   "cell_type": "code",
   "execution_count": 102,
   "metadata": {
    "ExecuteTime": {
     "end_time": "2022-04-21T06:02:16.127736Z",
     "start_time": "2022-04-21T06:02:16.122233Z"
    }
   },
   "outputs": [],
   "source": [
    "xgc = XGBClassifier(random_state=42, objective='binary:logistic')"
   ]
  },
  {
   "cell_type": "code",
   "execution_count": 104,
   "metadata": {
    "ExecuteTime": {
     "end_time": "2022-04-21T06:03:18.817173Z",
     "start_time": "2022-04-21T06:03:18.809286Z"
    }
   },
   "outputs": [],
   "source": [
    "xgc_pipe=Pipeline([('total_preprocessing',total_preprocessing), ('xgc',xgc)])"
   ]
  },
  {
   "cell_type": "code",
   "execution_count": 105,
   "metadata": {
    "ExecuteTime": {
     "end_time": "2022-04-21T06:03:44.642427Z",
     "start_time": "2022-04-21T06:03:42.928029Z"
    }
   },
   "outputs": [
    {
     "data": {
      "text/plain": [
       "Pipeline(steps=[('total_preprocessing',\n",
       "                 ColumnTransformer(transformers=[('numeric',\n",
       "                                                  Pipeline(steps=[('standard_scaler',\n",
       "                                                                   StandardScaler()),\n",
       "                                                                  ('imputer',\n",
       "                                                                   SimpleImputer())]),\n",
       "                                                  ['h1n1_concern',\n",
       "                                                   'h1n1_knowledge',\n",
       "                                                   'behavioral_antiviral_meds',\n",
       "                                                   'behavioral_avoidance',\n",
       "                                                   'behavioral_face_mask',\n",
       "                                                   'behavioral_wash_hands',\n",
       "                                                   'behavioral_large_gatherings',\n",
       "                                                   'behavioral_outside_home...\n",
       "                               colsample_bytree=1, gamma=0, gpu_id=-1,\n",
       "                               importance_type='gain',\n",
       "                               interaction_constraints='',\n",
       "                               learning_rate=0.300000012, max_delta_step=0,\n",
       "                               max_depth=6, min_child_weight=1, missing=nan,\n",
       "                               monotone_constraints='()', n_estimators=100,\n",
       "                               n_jobs=0, num_parallel_tree=1, random_state=42,\n",
       "                               reg_alpha=0, reg_lambda=1, scale_pos_weight=1,\n",
       "                               subsample=1, tree_method='exact',\n",
       "                               validate_parameters=1, verbosity=None))])"
      ]
     },
     "execution_count": 105,
     "metadata": {},
     "output_type": "execute_result"
    }
   ],
   "source": [
    "xgc_pipe.fit(X_train,y_train)"
   ]
  },
  {
   "cell_type": "code",
   "execution_count": 106,
   "metadata": {
    "ExecuteTime": {
     "end_time": "2022-04-21T06:04:27.261278Z",
     "start_time": "2022-04-21T06:04:11.591503Z"
    }
   },
   "outputs": [],
   "source": [
    "xgc_scoring=ModelWithAOCROC(xgc_pipe, 'xcg_pipe', X_train, y_train, cv_now=True)"
   ]
  },
  {
   "cell_type": "code",
   "execution_count": 107,
   "metadata": {
    "ExecuteTime": {
     "end_time": "2022-04-21T06:04:31.376262Z",
     "start_time": "2022-04-21T06:04:31.367935Z"
    }
   },
   "outputs": [
    {
     "name": "stdout",
     "output_type": "stream",
     "text": [
      "CV Results for `xcg_pipe` model:\n",
      "            0.77466 ± 0.01267 accuracy\n",
      "        \n"
     ]
    }
   ],
   "source": [
    "xgc_scoring.print_cv_summary()"
   ]
  },
  {
   "cell_type": "code",
   "execution_count": 108,
   "metadata": {
    "ExecuteTime": {
     "end_time": "2022-04-21T06:04:44.000950Z",
     "start_time": "2022-04-21T06:04:43.721698Z"
    }
   },
   "outputs": [
    {
     "data": {
      "image/png": "[encoded data removed]",
      "text/plain": [
       "<Figure size 432x288 with 1 Axes>"
      ]
     },
     "metadata": {
      "needs_background": "light"
     },
     "output_type": "display_data"
    }
   ],
   "source": [
    "xgc_scoring.plt_roc_curve()"
   ]
  },
  {
   "cell_type": "code",
   "execution_count": 122,
   "metadata": {
    "ExecuteTime": {
     "end_time": "2022-04-21T06:18:05.445831Z",
     "start_time": "2022-04-21T06:18:05.437280Z"
    }
   },
   "outputs": [],
   "source": [
    "stc = StackingClassifier(estimators=[\n",
    "    ('gbc', GradientBoostingClassifier(random_state=42)),\n",
    "    ('log_reg', LogisticRegression(random_state=42)),\n",
    "    \n",
    "])\n",
    "stc_pipe= Pipeline([('total_preprocessing',total_preprocessing), ('stc', stc)])"
   ]
  },
  {
   "cell_type": "code",
   "execution_count": 123,
   "metadata": {
    "ExecuteTime": {
     "end_time": "2022-04-21T06:18:22.518877Z",
     "start_time": "2022-04-21T06:18:06.137168Z"
    }
   },
   "outputs": [
    {
     "data": {
      "text/plain": [
       "Pipeline(steps=[('total_preprocessing',\n",
       "                 ColumnTransformer(transformers=[('numeric',\n",
       "                                                  Pipeline(steps=[('standard_scaler',\n",
       "                                                                   StandardScaler()),\n",
       "                                                                  ('imputer',\n",
       "                                                                   SimpleImputer())]),\n",
       "                                                  ['h1n1_concern',\n",
       "                                                   'h1n1_knowledge',\n",
       "                                                   'behavioral_antiviral_meds',\n",
       "                                                   'behavioral_avoidance',\n",
       "                                                   'behavioral_face_mask',\n",
       "                                                   'behavioral_wash_hands',\n",
       "                                                   'behavioral_large_gatherings',\n",
       "                                                   'behavioral_outside_home...\n",
       "                                                 ('numeric_to_cat',\n",
       "                                                  Pipeline(steps=[('convert_to_cat',\n",
       "                                                                   FunctionTransformer(func=<function convert at 0x7fd2c8c0d8b0>)),\n",
       "                                                                  ('simple_imputer',\n",
       "                                                                   SimpleImputer()),\n",
       "                                                                  ('standard_scaler',\n",
       "                                                                   StandardScaler())]),\n",
       "                                                  ['age_group',\n",
       "                                                   'income_poverty'])])),\n",
       "                ('stc',\n",
       "                 StackingClassifier(estimators=[('gbc',\n",
       "                                                 GradientBoostingClassifier(random_state=42)),\n",
       "                                                ('log_reg',\n",
       "                                                 LogisticRegression(random_state=42))]))])"
      ]
     },
     "execution_count": 123,
     "metadata": {},
     "output_type": "execute_result"
    }
   ],
   "source": [
    "stc_pipe.fit(X_train,y_train)"
   ]
  },
  {
   "cell_type": "code",
   "execution_count": 124,
   "metadata": {
    "ExecuteTime": {
     "end_time": "2022-04-21T06:20:50.717251Z",
     "start_time": "2022-04-21T06:18:22.952039Z"
    }
   },
   "outputs": [],
   "source": [
    "stc_scoring=ModelWithAOCROC(stc_pipe, 'stc_pipe', X_train, y_train, cv_now=True)"
   ]
  },
  {
   "cell_type": "code",
   "execution_count": 120,
   "metadata": {
    "ExecuteTime": {
     "end_time": "2022-04-21T06:17:57.390850Z",
     "start_time": "2022-04-21T06:17:57.389229Z"
    }
   },
   "outputs": [
    {
     "name": "stdout",
     "output_type": "stream",
     "text": [
      "CV Results for `stc_pipe` model:\n",
      "            0.78422 ± 0.00927 accuracy\n",
      "        \n"
     ]
    }
   ],
   "source": [
    "stc_scoring.print_cv_summary()"
   ]
  },
  {
   "cell_type": "code",
   "execution_count": 121,
   "metadata": {
    "ExecuteTime": {
     "end_time": "2022-04-21T06:17:58.060491Z",
     "start_time": "2022-04-21T06:17:57.817149Z"
    }
   },
   "outputs": [
    {
     "data": {
      "image/png": "[encoded data removed]",
      "text/plain": [
       "<Figure size 432x288 with 1 Axes>"
      ]
     },
     "metadata": {
      "needs_background": "light"
     },
     "output_type": "display_data"
    }
   ],
   "source": [
    "stc_scoring.plt_roc_curve()"
   ]
  },
  {
   "cell_type": "code",
   "execution_count": null,
   "metadata": {},
   "outputs": [],
   "source": [
    "#RFE (log reg)"
   ]
  },
  {
   "cell_type": "code",
   "execution_count": 130,
   "metadata": {
    "ExecuteTime": {
     "end_time": "2022-04-21T07:06:18.040611Z",
     "start_time": "2022-04-21T07:04:33.437290Z"
    }
   },
   "outputs": [
    {
     "name": "stdout",
     "output_type": "stream",
     "text": [
      "Fitting 5 folds for each of 9 candidates, totalling 45 fits\n"
     ]
    },
    {
     "data": {
      "text/plain": [
       "GridSearchCV(cv=5,\n",
       "             estimator=Pipeline(steps=[('total_preprocessing',\n",
       "                                        ColumnTransformer(transformers=[('numeric',\n",
       "                                                                         Pipeline(steps=[('standard_scaler',\n",
       "                                                                                          StandardScaler()),\n",
       "                                                                                         ('imputer',\n",
       "                                                                                          SimpleImputer())]),\n",
       "                                                                         ['h1n1_concern',\n",
       "                                                                          'h1n1_knowledge',\n",
       "                                                                          'behavioral_antiviral_meds',\n",
       "                                                                          'behavioral_avoidance',\n",
       "                                                                          'behavioral_face_mask',\n",
       "                                                                          'behavioral_wash_hands',\n",
       "                                                                          'behavioral_large_gatherin...\n",
       "                                                                                          FunctionTransformer(func=<function convert at 0x7fd2c8c0d8b0>)),\n",
       "                                                                                         ('simple_imputer',\n",
       "                                                                                          SimpleImputer()),\n",
       "                                                                                         ('standard_scaler',\n",
       "                                                                                          StandardScaler())]),\n",
       "                                                                         ['age_group',\n",
       "                                                                          'income_poverty'])])),\n",
       "                                       ('stc',\n",
       "                                        StackingClassifier(estimators=[('gbc',\n",
       "                                                                        GradientBoostingClassifier(random_state=42)),\n",
       "                                                                       ('log_reg',\n",
       "                                                                        LogisticRegression(random_state=42))]))]),\n",
       "             n_jobs=-1,\n",
       "             param_grid={'stc__log_reg__C': [1, 2, 3, 4, 5, 6, 7, 8, 9]},\n",
       "             verbose=2)"
      ]
     },
     "execution_count": 130,
     "metadata": {},
     "output_type": "execute_result"
    }
   ],
   "source": [
    "params = {'stc__log_reg__C': list(range(1,10,1))}\n",
    "grid = GridSearchCV(estimator=stc_pipe, param_grid=params,verbose=2, cv=5,n_jobs=-1)\n",
    "grid.fit(X_train, y_train)"
   ]
  },
  {
   "cell_type": "code",
   "execution_count": null,
   "metadata": {
    "ExecuteTime": {
     "start_time": "2022-04-21T07:14:18.849Z"
    }
   },
   "outputs": [
    {
     "name": "stdout",
     "output_type": "stream",
     "text": [
      "Fitting 3 folds for each of 3888 candidates, totalling 11664 fits\n"
     ]
    }
   ],
   "source": [
    "params2={'stc__log_reg__C':[.1,1,10],\n",
    "        'stc__log_reg__tol':[0.001,0.01,0.1],\n",
    "        'stc__log_reg__max_iter':[100,1000,10000,100000],\n",
    "       'stc__gbc__n_estimators':[100,500,1000],\n",
    "       'stc__gbc__criterion':['friedman_mse','squared_error','mse','mae'],\n",
    "       'stc__gbc__min_samples_leaf':[1,7,11],\n",
    "       'stc__gbc__min_samples_split':[2,8,12]}\n",
    "grid = GridSearchCV(estimator=stc_pipe, param_grid=params2,verbose=3, cv=3,n_jobs=-1)\n",
    "grid.fit(X_train,y_train)"
   ]
  },
  {
   "cell_type": "code",
   "execution_count": null,
   "metadata": {},
   "outputs": [],
   "source": []
  }
 ],
 "metadata": {
  "kernelspec": {
   "display_name": "Python (learn-env)",
   "language": "python",
   "name": "learn-env"
  },
  "language_info": {
   "codemirror_mode": {
    "name": "ipython",
    "version": 3
   },
   "file_extension": ".py",
   "mimetype": "text/x-python",
   "name": "python",
   "nbconvert_exporter": "python",
   "pygments_lexer": "ipython3",
   "version": "3.8.5"
  },
  "toc": {
   "base_numbering": 1,
   "nav_menu": {},
   "number_sections": true,
   "sideBar": true,
   "skip_h1_title": false,
   "title_cell": "Table of Contents",
   "title_sidebar": "Contents",
   "toc_cell": false,
   "toc_position": {},
   "toc_section_display": true,
   "toc_window_display": false
  },
  "varInspector": {
   "cols": {
    "lenName": 16,
    "lenType": 16,
    "lenVar": 40
   },
   "kernels_config": {
    "python": {
     "delete_cmd_postfix": "",
     "delete_cmd_prefix": "del ",
     "library": "var_list.py",
     "varRefreshCmd": "print(var_dic_list())"
    },
    "r": {
     "delete_cmd_postfix": ") ",
     "delete_cmd_prefix": "rm(",
     "library": "var_list.r",
     "varRefreshCmd": "cat(var_dic_list()) "
    }
   },
   "types_to_exclude": [
    "module",
    "function",
    "builtin_function_or_method",
    "instance",
    "_Feature"
   ],
   "window_display": false
  }
 },
 "nbformat": 4,
 "nbformat_minor": 4
}
