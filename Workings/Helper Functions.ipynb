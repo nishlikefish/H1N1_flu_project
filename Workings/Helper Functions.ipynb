{
 "cells": [
  {
   "cell_type": "code",
   "execution_count": 1,
   "metadata": {
    "ExecuteTime": {
     "end_time": "2022-04-23T22:27:58.968659Z",
     "start_time": "2022-04-23T22:27:56.962224Z"
    }
   },
   "outputs": [],
   "source": [
    "#imports\n",
    "import pandas as pd\n",
    "import numpy as np\n",
    "from matplotlib import pyplot as plt\n",
    "import seaborn as sns\n",
    "\n",
    "from sklearn.model_selection import train_test_split, GridSearchCV, cross_val_score\n",
    "from sklearn.pipeline import Pipeline\n",
    "from sklearn.preprocessing import StandardScaler, OneHotEncoder, FunctionTransformer,OrdinalEncoder\n",
    "from sklearn.impute import SimpleImputer\n",
    "from sklearn.compose import ColumnTransformer\n",
    "from sklearn.linear_model import LogisticRegression\n",
    "from sklearn.ensemble import RandomForestClassifier, GradientBoostingClassifier\n",
    "from sklearn.metrics import plot_confusion_matrix, recall_score,accuracy_score, precision_score, f1_score\n",
    "from sklearn.metrics import plot_roc_curve, roc_auc_score\n",
    "from imblearn.over_sampling import SMOTE\n",
    "from imblearn.pipeline import Pipeline as ImPipeline"
   ]
  },
  {
   "cell_type": "code",
   "execution_count": 2,
   "metadata": {
    "ExecuteTime": {
     "end_time": "2022-04-23T22:27:59.186730Z",
     "start_time": "2022-04-23T22:27:58.971280Z"
    }
   },
   "outputs": [],
   "source": [
    "#load the data \n",
    "tr_features = pd.read_csv(\n",
    "    \"data/training_set_features.csv\", \n",
    "    index_col=\"respondent_id\"\n",
    ")\n",
    "tr_labels = pd.read_csv(\n",
    "   \"data/training_set_labels.csv\", \n",
    "    index_col=\"respondent_id\"\n",
    ")"
   ]
  },
  {
   "cell_type": "code",
   "execution_count": 3,
   "metadata": {
    "ExecuteTime": {
     "end_time": "2022-04-23T22:27:59.199580Z",
     "start_time": "2022-04-23T22:27:59.190270Z"
    }
   },
   "outputs": [
    {
     "data": {
      "text/plain": [
       "0    14272\n",
       "1    12435\n",
       "Name: seasonal_vaccine, dtype: int64"
      ]
     },
     "execution_count": 3,
     "metadata": {},
     "output_type": "execute_result"
    }
   ],
   "source": [
    "#class balance check\n",
    "tr_labels['seasonal_vaccine'].value_counts()"
   ]
  },
  {
   "cell_type": "code",
   "execution_count": 4,
   "metadata": {
    "ExecuteTime": {
     "end_time": "2022-04-23T22:27:59.233858Z",
     "start_time": "2022-04-23T22:27:59.219900Z"
    }
   },
   "outputs": [],
   "source": [
    "#.info"
   ]
  },
  {
   "cell_type": "code",
   "execution_count": 5,
   "metadata": {
    "ExecuteTime": {
     "end_time": "2022-04-23T22:27:59.244022Z",
     "start_time": "2022-04-23T22:27:59.237432Z"
    }
   },
   "outputs": [],
   "source": [
    "#.describe"
   ]
  },
  {
   "cell_type": "code",
   "execution_count": 6,
   "metadata": {
    "ExecuteTime": {
     "end_time": "2022-04-23T22:27:59.302694Z",
     "start_time": "2022-04-23T22:27:59.296393Z"
    }
   },
   "outputs": [],
   "source": [
    "#.shape"
   ]
  },
  {
   "cell_type": "code",
   "execution_count": 7,
   "metadata": {
    "ExecuteTime": {
     "end_time": "2022-04-23T22:27:59.325277Z",
     "start_time": "2022-04-23T22:27:59.314572Z"
    }
   },
   "outputs": [],
   "source": [
    "#.d_types"
   ]
  },
  {
   "cell_type": "code",
   "execution_count": 8,
   "metadata": {
    "ExecuteTime": {
     "end_time": "2022-04-23T22:27:59.347481Z",
     "start_time": "2022-04-23T22:27:59.339119Z"
    }
   },
   "outputs": [],
   "source": [
    "#miss_value%"
   ]
  },
  {
   "cell_type": "code",
   "execution_count": 9,
   "metadata": {
    "ExecuteTime": {
     "end_time": "2022-04-23T22:27:59.368902Z",
     "start_time": "2022-04-23T22:27:59.362787Z"
    }
   },
   "outputs": [],
   "source": [
    "#feature exploring "
   ]
  },
  {
   "cell_type": "code",
   "execution_count": 10,
   "metadata": {
    "ExecuteTime": {
     "end_time": "2022-04-23T22:27:59.385736Z",
     "start_time": "2022-04-23T22:27:59.376025Z"
    }
   },
   "outputs": [],
   "source": [
    "num_cols = tr_features.columns[tr_features.dtypes != 'object'].values\n",
    "cat_cols = tr_features.columns[tr_features.dtypes == 'object'].values"
   ]
  },
  {
   "cell_type": "code",
   "execution_count": 11,
   "metadata": {
    "ExecuteTime": {
     "end_time": "2022-04-23T22:27:59.405532Z",
     "start_time": "2022-04-23T22:27:59.396716Z"
    }
   },
   "outputs": [],
   "source": [
    "#column mapping function \n",
    "def col_value_mapper(col, mapping):\n",
    "    return lambda df: df.assign(**{col:df[col].apply(mapping.get)})"
   ]
  },
  {
   "cell_type": "code",
   "execution_count": 12,
   "metadata": {
    "ExecuteTime": {
     "end_time": "2022-04-23T22:27:59.425030Z",
     "start_time": "2022-04-23T22:27:59.416033Z"
    }
   },
   "outputs": [],
   "source": [
    "#column mapping function \n",
    "def col_value_mapper(col, mapping):\n",
    "    def update_df(df):\n",
    "        return df.assign(**{col:df[col].apply(mapping.get)})\n",
    "    return update_df"
   ]
  },
  {
   "cell_type": "code",
   "execution_count": null,
   "metadata": {
    "ExecuteTime": {
     "end_time": "2022-04-23T22:27:59.741769Z",
     "start_time": "2022-04-23T22:27:56.982Z"
    }
   },
   "outputs": [],
   "source": [
    "tr_features.age_group.map(age_mean_map)"
   ]
  },
  {
   "cell_type": "code",
   "execution_count": 15,
   "metadata": {
    "ExecuteTime": {
     "end_time": "2022-04-23T22:28:23.885035Z",
     "start_time": "2022-04-23T22:28:23.880224Z"
    }
   },
   "outputs": [],
   "source": [
    "#age_group map and function wrapper\n",
    "age_mean_map = {'18 - 34 Years': 26,\n",
    "                '35 - 44 Years': 40,\n",
    "                '45 - 54 Years': 50,\n",
    "                '55 - 64 Years': 60,\n",
    "                '65+ Years': 70, \n",
    "                }\n",
    "age_group_transformer = FunctionTransformer(col_value_mapper(\"age_group\", age_mean_map))"
   ]
  },
  {
   "cell_type": "code",
   "execution_count": 16,
   "metadata": {
    "ExecuteTime": {
     "end_time": "2022-04-23T22:28:24.811852Z",
     "start_time": "2022-04-23T22:28:24.788173Z"
    }
   },
   "outputs": [
    {
     "data": {
      "text/plain": [
       "respondent_id\n",
       "0        60\n",
       "1        40\n",
       "2        26\n",
       "3        70\n",
       "4        50\n",
       "         ..\n",
       "26702    70\n",
       "26703    26\n",
       "26704    60\n",
       "26705    26\n",
       "26706    70\n",
       "Name: age_group, Length: 26707, dtype: int64"
      ]
     },
     "execution_count": 16,
     "metadata": {},
     "output_type": "execute_result"
    }
   ],
   "source": [
    "col_value_mapper(\"age_group\", age_mean_map)(tr_features).age_group"
   ]
  },
  {
   "cell_type": "code",
   "execution_count": null,
   "metadata": {
    "ExecuteTime": {
     "end_time": "2022-04-23T22:27:59.748492Z",
     "start_time": "2022-04-23T22:27:56.985Z"
    }
   },
   "outputs": [],
   "source": [
    "#income_poverty and function wrapper\n",
    "income_map = {'Below Poverty': 1,\n",
    "              '<= $75,000, Above Poverty': 2,\n",
    "              '> $75,000':3\n",
    "             }\n",
    "income_transformer = FunctionTransformer(col_value_mapper(\"income_poverty\", income_map))"
   ]
  },
  {
   "cell_type": "code",
   "execution_count": null,
   "metadata": {
    "ExecuteTime": {
     "end_time": "2022-04-23T22:27:59.752328Z",
     "start_time": "2022-04-23T22:27:56.987Z"
    }
   },
   "outputs": [],
   "source": [
    "#Pipelines and column transformer assigining \n",
    "seperate_processing_cols = [\"age_group\", \"income_poverty\"]\n",
    "\n",
    "high_missing_cols = []\n",
    "cat_cols = [x for x in cat_cols if (x not in high_missing_cols and x not in seperate_processing_cols)]\n",
    "num_cols = [x for x in num_cols if (x not in high_missing_cols and x not in seperate_processing_cols)]\n",
    "num_to_cat_preprocessing = Pipeline(steps=[\n",
    "    ('age_group_trasnformer',age_group_transformer),\n",
    "    ('income_transformer',income_transformer),\n",
    "    ('standard_scaler', StandardScaler()),\n",
    "    ('simple_imputer', SimpleImputer(strategy = 'mean'))\n",
    "])\n",
    "\n",
    "numeric_preprocessing = Pipeline(steps=[\n",
    "    ('standard_scaler', StandardScaler()),\n",
    "    ('imputer', SimpleImputer(strategy='mean'))])\n",
    "\n",
    "catergoric_preprocessing = Pipeline(steps=[\n",
    "     ('simple_imputer', SimpleImputer(strategy='constant', fill_value='missing')),\n",
    "    ('one_hot_encoder', OneHotEncoder())\n",
    "])\n",
    "\n",
    "\n",
    "total_preprocessing = ColumnTransformer(\n",
    "    transformers = [('num_to_cat_preprocessing',num_to_cat_preprocessing,seperate_processing_cols),\n",
    "        ('numeric', numeric_preprocessing, num_cols),\n",
    "        ('categoric',catergoric_preprocessing , cat_cols)  \n",
    "    ],\n",
    "    remainder = \"drop\"\n",
    ")"
   ]
  },
  {
   "cell_type": "code",
   "execution_count": null,
   "metadata": {
    "ExecuteTime": {
     "end_time": "2022-04-23T22:27:59.754471Z",
     "start_time": "2022-04-23T22:27:56.994Z"
    }
   },
   "outputs": [],
   "source": []
  },
  {
   "cell_type": "code",
   "execution_count": null,
   "metadata": {
    "ExecuteTime": {
     "end_time": "2022-04-23T22:27:59.757437Z",
     "start_time": "2022-04-23T22:27:56.996Z"
    }
   },
   "outputs": [],
   "source": [
    "#train test split\n",
    "X_train, X_eval, y_train, y_eval = train_test_split(\n",
    "    X,\n",
    "    y,\n",
    "    test_size=0.33,\n",
    "    shuffle=True,\n",
    "    stratify=tr_labels['seasonal_vaccine']\n",
    ")"
   ]
  },
  {
   "cell_type": "code",
   "execution_count": null,
   "metadata": {
    "ExecuteTime": {
     "end_time": "2022-04-23T22:27:59.760246Z",
     "start_time": "2022-04-23T22:27:56.997Z"
    }
   },
   "outputs": [],
   "source": [
    "#scoring function (cross_val)\n",
    "class ModelWithCV():\n",
    "    '''Structure to save the model and more easily see its crossvalidation'''\n",
    "    \n",
    "    def __init__(self, model, model_name, X, y, cv_now=True):\n",
    "        self.model = model\n",
    "        self.name = model_name\n",
    "        self.X = X\n",
    "        self.y = y\n",
    "        # For CV results\n",
    "        self.cv_results = None\n",
    "        self.cv_mean = None\n",
    "        self.cv_median = None\n",
    "        self.cv_std = None\n",
    "        #\n",
    "        if cv_now:\n",
    "            self.cross_validate()\n",
    "        \n",
    "    def cross_validate(self, X=None, y=None, kfolds=10):\n",
    "        '''\n",
    "        Perform cross-validation and return results.\n",
    "        \n",
    "        Args: \n",
    "          X:\n",
    "            Optional; Training data to perform CV on. Otherwise use X from object\n",
    "          y:\n",
    "            Optional; Training data to perform CV on. Otherwise use y from object\n",
    "          kfolds:\n",
    "            Optional; Number of folds for CV (default is 10)  \n",
    "        '''\n",
    "        \n",
    "        cv_X = X if X else self.X\n",
    "        cv_y = y if y else self.y\n",
    "\n",
    "        self.cv_results = cross_val_score(self.model, cv_X, cv_y, cv=kfolds)\n",
    "        self.cv_mean = np.mean(self.cv_results)\n",
    "        self.cv_median = np.median(self.cv_results)\n",
    "        self.cv_std = np.std(self.cv_results)\n",
    "\n",
    "        \n",
    "    def print_cv_summary(self):\n",
    "        cv_summary = (\n",
    "        f'''CV Results for `{self.name}` model:\n",
    "            {self.cv_mean:.5f} ± {self.cv_std:.5f} accuracy\n",
    "        ''')\n",
    "        print(cv_summary)"
   ]
  },
  {
   "cell_type": "code",
   "execution_count": null,
   "metadata": {
    "ExecuteTime": {
     "end_time": "2022-04-23T22:27:59.763369Z",
     "start_time": "2022-04-23T22:27:56.999Z"
    }
   },
   "outputs": [],
   "source": [
    "#scoring function (aoc-roc)\n",
    "class ModelWithAOCROC(ModelWithCV):\n",
    "    \"\"\"Structure for scoring classfication models\"\"\"\n",
    "    def __init__(self, *args, **kwargs):\n",
    "        super().__init__(*args, **kwargs)\n",
    "        \n",
    "    def plt_roc_curve(self,X=None,y=None):\n",
    "      \n",
    "        \n",
    "        cv_X = X if X else self.X\n",
    "        cv_y = y if y else self.y\n",
    "        y_preds = self.model.predict(cv_X)\n",
    "        plot_roc_curve(self.model,cv_X,cv_y)"
   ]
  },
  {
   "cell_type": "code",
   "execution_count": null,
   "metadata": {
    "ExecuteTime": {
     "end_time": "2022-04-23T22:27:59.768081Z",
     "start_time": "2022-04-23T22:27:57.001Z"
    }
   },
   "outputs": [],
   "source": [
    "#instaniate Dummy Classifier"
   ]
  },
  {
   "cell_type": "code",
   "execution_count": null,
   "metadata": {
    "ExecuteTime": {
     "end_time": "2022-04-23T22:27:59.780669Z",
     "start_time": "2022-04-23T22:27:57.003Z"
    }
   },
   "outputs": [],
   "source": [
    "#score with CV"
   ]
  },
  {
   "cell_type": "code",
   "execution_count": null,
   "metadata": {
    "ExecuteTime": {
     "end_time": "2022-04-23T22:27:59.801458Z",
     "start_time": "2022-04-23T22:27:57.005Z"
    }
   },
   "outputs": [],
   "source": [
    "#score with aoc-roc "
   ]
  },
  {
   "cell_type": "code",
   "execution_count": null,
   "metadata": {
    "ExecuteTime": {
     "end_time": "2022-04-23T22:27:59.803960Z",
     "start_time": "2022-04-23T22:27:57.007Z"
    }
   },
   "outputs": [],
   "source": [
    "## Logistic Regression Models "
   ]
  },
  {
   "cell_type": "code",
   "execution_count": null,
   "metadata": {
    "ExecuteTime": {
     "end_time": "2022-04-23T22:27:59.806250Z",
     "start_time": "2022-04-23T22:27:57.008Z"
    }
   },
   "outputs": [],
   "source": [
    "log_reg_pipe=Pipeline([('total_preprocessing',total_preprocessing),\n",
    "                     ('logreg',LogisticRegression(max_iter=1000))])"
   ]
  },
  {
   "cell_type": "code",
   "execution_count": null,
   "metadata": {
    "ExecuteTime": {
     "end_time": "2022-04-23T22:27:59.810234Z",
     "start_time": "2022-04-23T22:27:57.009Z"
    }
   },
   "outputs": [],
   "source": [
    "log_reg_pipe.fit(X_train,y_train)"
   ]
  },
  {
   "cell_type": "code",
   "execution_count": null,
   "metadata": {
    "ExecuteTime": {
     "end_time": "2022-04-23T22:27:59.827259Z",
     "start_time": "2022-04-23T22:27:57.011Z"
    }
   },
   "outputs": [],
   "source": [
    "logreg_scoring=ModelWithAOCROC(log_reg_pipe, 'logreg', X_train, y_train, cv_now=True)"
   ]
  },
  {
   "cell_type": "code",
   "execution_count": null,
   "metadata": {
    "ExecuteTime": {
     "end_time": "2022-04-23T22:27:59.834823Z",
     "start_time": "2022-04-23T22:27:57.013Z"
    }
   },
   "outputs": [],
   "source": [
    "logreg_scoring.plt_roc_curve()"
   ]
  },
  {
   "cell_type": "code",
   "execution_count": null,
   "metadata": {
    "ExecuteTime": {
     "end_time": "2022-04-23T22:27:59.842366Z",
     "start_time": "2022-04-23T22:27:57.016Z"
    }
   },
   "outputs": [],
   "source": [
    "#RFE"
   ]
  },
  {
   "cell_type": "code",
   "execution_count": null,
   "metadata": {
    "ExecuteTime": {
     "end_time": "2022-04-23T22:27:59.850083Z",
     "start_time": "2022-04-23T22:27:57.018Z"
    }
   },
   "outputs": [],
   "source": [
    "#Grid Search "
   ]
  },
  {
   "cell_type": "code",
   "execution_count": null,
   "metadata": {
    "ExecuteTime": {
     "end_time": "2022-04-23T22:27:59.852922Z",
     "start_time": "2022-04-23T22:27:57.020Z"
    }
   },
   "outputs": [],
   "source": [
    "#second Log_reg function "
   ]
  },
  {
   "cell_type": "code",
   "execution_count": null,
   "metadata": {
    "ExecuteTime": {
     "end_time": "2022-04-23T22:27:59.859008Z",
     "start_time": "2022-04-23T22:27:57.022Z"
    }
   },
   "outputs": [],
   "source": [
    "## Random Forest Classifier "
   ]
  },
  {
   "cell_type": "code",
   "execution_count": null,
   "metadata": {
    "ExecuteTime": {
     "end_time": "2022-04-23T22:27:59.863285Z",
     "start_time": "2022-04-23T22:27:57.024Z"
    }
   },
   "outputs": [],
   "source": [
    "#instantiating pipeline and estimator\n",
    "rfc_pipe=Pipeline([('total_preprocessing',total_preprocessing),\n",
    "                     ('rfc',RandomForestClassifier(random_state=42))])"
   ]
  },
  {
   "cell_type": "code",
   "execution_count": null,
   "metadata": {
    "ExecuteTime": {
     "end_time": "2022-04-23T22:27:59.875956Z",
     "start_time": "2022-04-23T22:27:57.026Z"
    }
   },
   "outputs": [],
   "source": [
    "#fitting on training data \n",
    "rfc_pipe.fit(X_train,y_train)"
   ]
  },
  {
   "cell_type": "code",
   "execution_count": null,
   "metadata": {
    "ExecuteTime": {
     "end_time": "2022-04-23T22:27:59.881853Z",
     "start_time": "2022-04-23T22:27:57.028Z"
    }
   },
   "outputs": [],
   "source": [
    "#instantiating scoring function \n",
    "rfc_scoring=ModelWithAOCROC(rfc_pipe, 'rfc_pipe', X_train, y_train, cv_now=True)"
   ]
  },
  {
   "cell_type": "code",
   "execution_count": null,
   "metadata": {
    "ExecuteTime": {
     "end_time": "2022-04-23T22:27:59.895521Z",
     "start_time": "2022-04-23T22:27:57.029Z"
    }
   },
   "outputs": [],
   "source": [
    "#scoring with Cross_val\n",
    "rfc_scoring.print_cv_summary"
   ]
  },
  {
   "cell_type": "code",
   "execution_count": null,
   "metadata": {
    "ExecuteTime": {
     "end_time": "2022-04-23T22:27:59.911990Z",
     "start_time": "2022-04-23T22:27:57.031Z"
    }
   },
   "outputs": [],
   "source": [
    "#scoring with aoc-roc\n",
    "rfc_scoring.plt_roc_curve()"
   ]
  },
  {
   "cell_type": "code",
   "execution_count": null,
   "metadata": {
    "ExecuteTime": {
     "end_time": "2022-04-23T22:27:59.915504Z",
     "start_time": "2022-04-23T22:27:57.032Z"
    }
   },
   "outputs": [],
   "source": [
    "#feature_importance\n",
    "rfc.feature_importances_\n",
    "feat_import = {name: score \n",
    "                   for name, score \n",
    "                       in zip(X_train.columns, rfc.feature_importances_)\n",
    "}\n",
    "feat_import"
   ]
  },
  {
   "cell_type": "code",
   "execution_count": null,
   "metadata": {
    "ExecuteTime": {
     "end_time": "2022-04-23T22:27:59.919706Z",
     "start_time": "2022-04-23T22:27:57.034Z"
    }
   },
   "outputs": [],
   "source": [
    "#grid Search"
   ]
  },
  {
   "cell_type": "code",
   "execution_count": null,
   "metadata": {
    "ExecuteTime": {
     "end_time": "2022-04-23T22:27:59.924356Z",
     "start_time": "2022-04-23T22:27:57.035Z"
    }
   },
   "outputs": [],
   "source": [
    "## Extra-Tree Classifier"
   ]
  },
  {
   "cell_type": "code",
   "execution_count": null,
   "metadata": {
    "ExecuteTime": {
     "end_time": "2022-04-23T22:27:59.927430Z",
     "start_time": "2022-04-23T22:27:57.037Z"
    }
   },
   "outputs": [],
   "source": [
    "etc = ExtraTreesClassifier(max_features='sqrt', max_samples=.5, bootstrap=True, random_state=42)\n",
    "etc_pipe= Pipeline([('total_preprocessing',total_preprocessing), ('etc', etc)])"
   ]
  },
  {
   "cell_type": "code",
   "execution_count": null,
   "metadata": {
    "ExecuteTime": {
     "end_time": "2022-04-23T22:27:59.932221Z",
     "start_time": "2022-04-23T22:27:57.045Z"
    }
   },
   "outputs": [],
   "source": [
    "#fitting on training data \n",
    "etc_pipe.fit(X_train,y_train)"
   ]
  },
  {
   "cell_type": "code",
   "execution_count": null,
   "metadata": {
    "ExecuteTime": {
     "end_time": "2022-04-23T22:27:59.939787Z",
     "start_time": "2022-04-23T22:27:57.058Z"
    }
   },
   "outputs": [],
   "source": [
    "#instantiating scoring function \n",
    "etc_scoring=ModelWithAOCROC(etc_pipe, 'etc_pipe', X_train, y_train, cv_now=True)"
   ]
  },
  {
   "cell_type": "code",
   "execution_count": null,
   "metadata": {
    "ExecuteTime": {
     "end_time": "2022-04-23T22:27:59.943075Z",
     "start_time": "2022-04-23T22:27:57.060Z"
    }
   },
   "outputs": [],
   "source": [
    "#scoring with Cross_val\n",
    "etc_scoring.print_cv_summary"
   ]
  },
  {
   "cell_type": "code",
   "execution_count": null,
   "metadata": {
    "ExecuteTime": {
     "end_time": "2022-04-23T22:27:59.945987Z",
     "start_time": "2022-04-23T22:27:57.061Z"
    }
   },
   "outputs": [],
   "source": [
    "etc_scoring.plt_roc_curve()"
   ]
  },
  {
   "cell_type": "code",
   "execution_count": null,
   "metadata": {
    "ExecuteTime": {
     "end_time": "2022-04-23T22:27:59.949182Z",
     "start_time": "2022-04-23T22:27:57.063Z"
    }
   },
   "outputs": [],
   "source": [
    "## Gradient Boosting Classifier"
   ]
  },
  {
   "cell_type": "code",
   "execution_count": null,
   "metadata": {
    "ExecuteTime": {
     "end_time": "2022-04-23T22:27:59.954969Z",
     "start_time": "2022-04-23T22:27:57.065Z"
    }
   },
   "outputs": [],
   "source": [
    "gbc_pipe = Pipeline([('total_preprocessing',total_preprocessing), ('gbc', GradientBoostingClassifier(random_state=42))])"
   ]
  },
  {
   "cell_type": "code",
   "execution_count": null,
   "metadata": {
    "ExecuteTime": {
     "end_time": "2022-04-23T22:27:59.960303Z",
     "start_time": "2022-04-23T22:27:57.067Z"
    }
   },
   "outputs": [],
   "source": [
    "#fitting on training data \n",
    "gbc_pipe.fit(X_train,y_train)"
   ]
  },
  {
   "cell_type": "code",
   "execution_count": null,
   "metadata": {
    "ExecuteTime": {
     "end_time": "2022-04-23T22:27:59.963110Z",
     "start_time": "2022-04-23T22:27:57.068Z"
    }
   },
   "outputs": [],
   "source": [
    "#instantiating scoring function \n",
    "gbc_scoring=ModelWithAOCROC(gbc_pipe, 'gbc_pipe', X_train, y_train, cv_now=True)"
   ]
  },
  {
   "cell_type": "code",
   "execution_count": null,
   "metadata": {
    "ExecuteTime": {
     "end_time": "2022-04-23T22:27:59.965164Z",
     "start_time": "2022-04-23T22:27:57.070Z"
    }
   },
   "outputs": [],
   "source": [
    "#scoring with Cross_val\n",
    "gbc_scoring.print_cv_summary"
   ]
  },
  {
   "cell_type": "code",
   "execution_count": null,
   "metadata": {
    "ExecuteTime": {
     "end_time": "2022-04-23T22:27:59.969355Z",
     "start_time": "2022-04-23T22:27:57.072Z"
    }
   },
   "outputs": [],
   "source": [
    "gbc_scoring.plt_roc_curve()"
   ]
  },
  {
   "cell_type": "code",
   "execution_count": null,
   "metadata": {
    "ExecuteTime": {
     "end_time": "2022-04-23T22:27:59.975717Z",
     "start_time": "2022-04-23T22:27:57.073Z"
    }
   },
   "outputs": [],
   "source": [
    "## Voting Classifier"
   ]
  },
  {
   "cell_type": "code",
   "execution_count": null,
   "metadata": {
    "ExecuteTime": {
     "end_time": "2022-04-23T22:27:59.979879Z",
     "start_time": "2022-04-23T22:27:57.075Z"
    }
   },
   "outputs": [],
   "source": [
    "vc = VotingClassifier(estimators=[\n",
    "    ('logreg', logreg),\n",
    "    ('knn', KNeighborsClassifier(n_neighbors=3)),\n",
    "    ('ct', DecisionTreeClassifier(random_state=42))\n",
    "])"
   ]
  },
  {
   "cell_type": "code",
   "execution_count": null,
   "metadata": {
    "ExecuteTime": {
     "end_time": "2022-04-23T22:27:59.982010Z",
     "start_time": "2022-04-23T22:27:57.077Z"
    }
   },
   "outputs": [],
   "source": [
    "vc_pipe=Pipeline([('total_preprocessing',total_preprocessing), ('vc',vc)"
   ]
  },
  {
   "cell_type": "code",
   "execution_count": null,
   "metadata": {
    "ExecuteTime": {
     "end_time": "2022-04-23T22:27:59.986629Z",
     "start_time": "2022-04-23T22:27:57.079Z"
    }
   },
   "outputs": [],
   "source": [
    "#fitting on training data \n",
    "vc_pipe.fit(X_train,y_train)"
   ]
  },
  {
   "cell_type": "code",
   "execution_count": null,
   "metadata": {
    "ExecuteTime": {
     "end_time": "2022-04-23T22:27:59.990804Z",
     "start_time": "2022-04-23T22:27:57.082Z"
    }
   },
   "outputs": [],
   "source": [
    "#instantiating scoring function \n",
    "vc_scoring=ModelWithAOCROC(vc_pipe, 'vc_pipe', X_train, y_train, cv_now=True)"
   ]
  },
  {
   "cell_type": "code",
   "execution_count": null,
   "metadata": {
    "ExecuteTime": {
     "end_time": "2022-04-23T22:27:59.994103Z",
     "start_time": "2022-04-23T22:27:57.084Z"
    }
   },
   "outputs": [],
   "source": [
    "#scoring with Cross_val\n",
    "vc_scoring.print_cv_summary"
   ]
  },
  {
   "cell_type": "code",
   "execution_count": null,
   "metadata": {
    "ExecuteTime": {
     "end_time": "2022-04-23T22:27:59.996679Z",
     "start_time": "2022-04-23T22:27:57.086Z"
    }
   },
   "outputs": [],
   "source": [
    "vc_scoring.plt_roc_curve()"
   ]
  },
  {
   "cell_type": "code",
   "execution_count": null,
   "metadata": {
    "ExecuteTime": {
     "end_time": "2022-04-23T22:27:59.999072Z",
     "start_time": "2022-04-23T22:27:57.088Z"
    }
   },
   "outputs": [],
   "source": [
    "## Bagging"
   ]
  },
  {
   "cell_type": "code",
   "execution_count": null,
   "metadata": {},
   "outputs": [],
   "source": []
  },
  {
   "cell_type": "code",
   "execution_count": null,
   "metadata": {
    "ExecuteTime": {
     "end_time": "2022-04-23T22:28:00.007298Z",
     "start_time": "2022-04-23T22:27:57.092Z"
    }
   },
   "outputs": [],
   "source": [
    "## XG-Boost"
   ]
  },
  {
   "cell_type": "code",
   "execution_count": null,
   "metadata": {
    "ExecuteTime": {
     "end_time": "2022-04-23T22:28:00.012951Z",
     "start_time": "2022-04-23T22:27:57.094Z"
    }
   },
   "outputs": [],
   "source": [
    "xgc = xgboost.XGBClassifier(random_state=42, objective='binary:logistic').fit(X_train2, y_train2)"
   ]
  },
  {
   "cell_type": "code",
   "execution_count": null,
   "metadata": {
    "ExecuteTime": {
     "end_time": "2022-04-23T22:28:00.025566Z",
     "start_time": "2022-04-23T22:27:57.096Z"
    }
   },
   "outputs": [],
   "source": [
    "## Stacking Classifier"
   ]
  },
  {
   "cell_type": "code",
   "execution_count": null,
   "metadata": {
    "ExecuteTime": {
     "end_time": "2022-04-23T22:28:00.029160Z",
     "start_time": "2022-04-23T22:27:57.098Z"
    }
   },
   "outputs": [],
   "source": [
    "stc = StackingClassifier(estimators=[\n",
    "    ('log_reg', LogisticRegression(random_state=42)),\n",
    "    ('rfc', RandomForestClassifier(random_state=42)),\n",
    "    ('gbc', GradientBoostingClassifier(random_state=42))\n",
    "])\n",
    "stc_pipe= Pipeline([('total_preprocessing',total_preprocessing), ('stc', stc)])"
   ]
  },
  {
   "cell_type": "code",
   "execution_count": null,
   "metadata": {
    "ExecuteTime": {
     "end_time": "2022-04-23T22:28:00.031340Z",
     "start_time": "2022-04-23T22:27:57.100Z"
    }
   },
   "outputs": [],
   "source": [
    "## XG-Boost + logistic Regression"
   ]
  },
  {
   "cell_type": "code",
   "execution_count": null,
   "metadata": {},
   "outputs": [],
   "source": []
  },
  {
   "cell_type": "code",
   "execution_count": null,
   "metadata": {
    "ExecuteTime": {
     "end_time": "2022-04-23T22:28:00.036533Z",
     "start_time": "2022-04-23T22:27:57.102Z"
    }
   },
   "outputs": [],
   "source": [
    "## Final Model Selection "
   ]
  },
  {
   "cell_type": "code",
   "execution_count": null,
   "metadata": {},
   "outputs": [],
   "source": []
  }
 ],
 "metadata": {
  "kernelspec": {
   "display_name": "Python (learn-env)",
   "language": "python",
   "name": "learn-env"
  },
  "language_info": {
   "codemirror_mode": {
    "name": "ipython",
    "version": 3
   },
   "file_extension": ".py",
   "mimetype": "text/x-python",
   "name": "python",
   "nbconvert_exporter": "python",
   "pygments_lexer": "ipython3",
   "version": "3.8.5"
  },
  "toc": {
   "base_numbering": 1,
   "nav_menu": {},
   "number_sections": true,
   "sideBar": false,
   "skip_h1_title": false,
   "title_cell": "Table of Contents",
   "title_sidebar": "Contents",
   "toc_cell": false,
   "toc_position": {
    "height": "796px",
    "left": "70px",
    "top": "111.125px",
    "width": "384px"
   },
   "toc_section_display": true,
   "toc_window_display": false
  },
  "varInspector": {
   "cols": {
    "lenName": 16,
    "lenType": 16,
    "lenVar": 40
   },
   "kernels_config": {
    "python": {
     "delete_cmd_postfix": "",
     "delete_cmd_prefix": "del ",
     "library": "var_list.py",
     "varRefreshCmd": "print(var_dic_list())"
    },
    "r": {
     "delete_cmd_postfix": ") ",
     "delete_cmd_prefix": "rm(",
     "library": "var_list.r",
     "varRefreshCmd": "cat(var_dic_list()) "
    }
   },
   "types_to_exclude": [
    "module",
    "function",
    "builtin_function_or_method",
    "instance",
    "_Feature"
   ],
   "window_display": false
  }
 },
 "nbformat": 4,
 "nbformat_minor": 4
}
